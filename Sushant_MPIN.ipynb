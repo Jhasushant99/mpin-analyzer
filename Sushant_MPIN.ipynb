{
 "cells": [
  {
   "cell_type": "markdown",
   "id": "d60cf253-cdcd-4374-8e33-a5fa68b823b3",
   "metadata": {},
   "source": [
    "PART A:- Check if 4-digit PIN is commonly used"
   ]
  },
  {
   "cell_type": "code",
   "execution_count": 52,
   "id": "e4443aca-b2bf-440d-b4c2-86dd86483adb",
   "metadata": {},
   "outputs": [],
   "source": [
    "\n",
    "COMMONLY_USED_MPINS_4 = {\n",
    "    \"1234\", \"0000\", \"1111\", \"2222\", \"3333\", \"4444\",\n",
    "    \"5555\", \"6666\", \"7777\", \"8888\", \"9999\", \"1122\", \"1212\", \"1313\",\"6969\",\"4321\",\"1004\",\"2000\",\"2580\",\"0987\",\"1010\",\"4321\"\n",
    "}\n",
    "\n",
    "COMMONLY_USED_MPINS_6 = {\n",
    " \"123456\", \"000000\", \"111111\", \"654321\", \"121212\",\n",
    "    \"112233\", \"999999\", \"159753\", \"123123\", \"789456\",\n",
    "    \"101010\", \"123321\", \"456789\", \"121314\", \"111222\",\n",
    "    \"314159\", \"777777\", \"010101\"\n",
    "}"
   ]
  },
  {
   "cell_type": "code",
   "execution_count": 53,
   "id": "200fc6d4-8793-49b2-b0c2-887bea11030c",
   "metadata": {},
   "outputs": [],
   "source": [
    "#here we check the commonly used mpins of 4 and 6 digit\n",
    "def is_commonly_used(mpin):\n",
    "    if len(mpin)==4:\n",
    "        return mpin in COMMONLY_USED_MPINS_4\n",
    "    elif len(mpin)==6:\n",
    "        return mpin in COMMONLY_USED_MPINS_6\n",
    "    return False\n",
    "\n",
    "\n",
    "\n",
    "    "
   ]
  },
  {
   "cell_type": "markdown",
   "id": "ac2e6b32-8d1c-488f-881c-b3b959303fbe",
   "metadata": {},
   "source": [
    "Extract all position combination from a Date"
   ]
  },
  {
   "cell_type": "markdown",
   "id": "1ac4455f-7eab-4507-a2c9-82c7c88f4185",
   "metadata": {},
   "source": [
    "PART B:-Check strength (WEAK/STRONG) using demographics & common PINs"
   ]
  },
  {
   "cell_type": "code",
   "execution_count": 54,
   "id": "1653a65b-6b09-46ab-9ff8-95d1835bea36",
   "metadata": {},
   "outputs": [],
   "source": [
    "# for 4-digit\n",
    "#first possible combination is day+month .ex=02(day)04(month)-0204\n",
    "#2nd possible combination is just reverse first-0402\n",
    "#3rd possible combination is year_short +day .ex ;like if someone birth year is 1998 then year_short is 98 if day is 11.then mpin is=9811\n",
    "#4th possible is just reverse third =1198.\n",
    "#5th is year_short + month .ex =9812(where birth year =1998 and month is 12th i.e december.\n",
    "#6th is just reverse 5th .ex.1298.\n",
    "#7th someone may be use repeat of year_short+year_short.like 9898.\n",
    "#8th repeat of day +day.like 0909\n",
    "#9th repeat of month+month.like 0808\n",
    "#10th may be lasttwo digit of year reverse also possible.like birth year is 1998 and day is 13.then combination is :-8913\n",
    "#11th just reverse of 10th"
   ]
  },
  {
   "cell_type": "code",
   "execution_count": 70,
   "id": "6b5d0e54-a38a-4df8-97e1-6a2073f86abc",
   "metadata": {},
   "outputs": [],
   "source": [
    "def extract_date_combinations(date, pin_length=None):\n",
    "    if not date or len(date.split('-')) != 3:\n",
    "        return []\n",
    "\n",
    "    day, month, year = date.split('-')\n",
    "    year_short = year[-2:]\n",
    "    year_short_rev = year_short[::-1]\n",
    "\n",
    "    combinations = set()\n",
    "\n",
    "    four_digit = {\n",
    "        day + month,\n",
    "        month + day,\n",
    "        year_short + day,\n",
    "        day + year_short,\n",
    "        year_short + month,\n",
    "        month + year_short,\n",
    "        year_short + year_short,\n",
    "        day + day,\n",
    "        month + month,\n",
    "        year_short_rev + day,\n",
    "        day + year_short_rev,\n",
    "    }\n",
    "\n",
    "    six_digit = {\n",
    "        day + month + year_short,\n",
    "        day + year_short + month,\n",
    "        month + day + year_short,\n",
    "        month + year_short + day,\n",
    "        year_short + day + month,\n",
    "        year_short + month + day,\n",
    "        year_short + year_short + day,\n",
    "        day + day + year_short,\n",
    "        day + month + year_short_rev,\n",
    "        month + month + year_short,\n",
    "    }\n",
    "\n",
    " \n",
    "    if pin_length == 4:\n",
    "        combinations.update(four_digit)\n",
    "    elif pin_length == 6:\n",
    "        combinations.update(six_digit)\n",
    "    else:\n",
    "        combinations.update(four_digit)\n",
    "        combinations.update(six_digit)\n",
    "\n",
    "    return list(combinations)\n"
   ]
  },
  {
   "cell_type": "code",
   "execution_count": 71,
   "id": "261896da-12db-416b-81ba-fad4425bb109",
   "metadata": {},
   "outputs": [],
   "source": [
    "def is_common_pin(pin):\n",
    "    if len(pin) == 4:\n",
    "        return pin in COMMONLY_USED_MPINS_4\n",
    "    elif len(pin) == 6:\n",
    "        return pin in COMMONLY_USED_MPINS_6\n",
    "    return False\n"
   ]
  },
  {
   "cell_type": "code",
   "execution_count": 72,
   "id": "c7d9de5a-1810-4094-a786-732d9ebe57d2",
   "metadata": {},
   "outputs": [],
   "source": [
    "def check_strength(pin,DOB=None,Spouse_DOB=None,Wedding_Anniversary=None):\n",
    "\n",
    "    if len(pin) not in [4,6]:\n",
    "        return \"invalid_length\",[]\n",
    "    combos_func = extract_date_combinations(pin)\n",
    "    if DOB and pin in combos_func(DOB):\n",
    "        return \"WEAK\"\n",
    "    if Spouse_DOB and pin in combos_func(Spouse_DOB):\n",
    "        return \"WEAK\"\n",
    "    if Wedding_Anniversary and pin in combos_func(Wedding_Anniversary):\n",
    "        return \"WEAK\"\n",
    "    return \"STRONG\""
   ]
  },
  {
   "cell_type": "markdown",
   "id": "666acd58-8e91-4734-a438-eaa7bab1637d",
   "metadata": {},
   "source": [
    "PART-C  Strength Check with Reasons (4/6-digit) "
   ]
  },
  {
   "cell_type": "code",
   "execution_count": 73,
   "id": "5702615b-871a-498a-83ec-439b6e79fcf5",
   "metadata": {},
   "outputs": [],
   "source": [
    "def check_strength_reason(pin, DOB, Spouse_DOB, Wedding_Anniversary):\n",
    "    reasons = []\n",
    "    if len(pin) not in [4,6]:\n",
    "        return \"INVALID_LENGTH\", []\n",
    "    if is_common_pin(pin):\n",
    "        reasons.append(\"COMMONLY_USED\")\n",
    "\n",
    "    if DOB:\n",
    "        combos = extract_date_combinations(DOB)\n",
    "        if pin in combos:\n",
    "            reasons.append(\"DEMOGRAPHIC_DOB_SELF\")\n",
    "\n",
    "    if Spouse_DOB:\n",
    "        combos = extract_date_combinations(Spouse_DOB)\n",
    "        if pin in combos:\n",
    "            reasons.append(\"DEMOGRAPHIC_DOB_SPOUSE\")\n",
    "\n",
    "    if Wedding_Anniversary:\n",
    "        combos = extract_date_combinations(Wedding_Anniversary)\n",
    "        if pin in combos:\n",
    "            reasons.append(\"DEMOGRAPHIC_ANNIVERSARY\")\n",
    "\n",
    "    if reasons:\n",
    "        return \"WEAK\", reasons\n",
    "    return \"STRONG\", []\n"
   ]
  },
  {
   "cell_type": "markdown",
   "id": "076d5e8a-e054-414d-86d2-21f4793c6302",
   "metadata": {},
   "source": [
    "PART D is Already integrated in PART A,B,C "
   ]
  },
  {
   "cell_type": "markdown",
   "id": "069594eb-277e-4fa8-a00b-53eb80dd9b8a",
   "metadata": {},
   "source": [
    "PART E :- TEST CASES"
   ]
  },
  {
   "cell_type": "code",
   "execution_count": 81,
   "id": "e7edd041-3157-40b3-bf9a-8bcdce50d113",
   "metadata": {},
   "outputs": [],
   "source": [
    "   def run_tests_cases():\n",
    "    tests = [\n",
    "        # for common used 4-digit\n",
    "        ('0000', None, None, None, \"WEAK\", [\"COMMONLY_USED\"]),\n",
    "        ('2580', None, None, None, \"WEAK\", [\"COMMONLY_USED\"]),\n",
    "        ('4321', None, None, None, \"WEAK\", [\"COMMONLY_USED\"]),\n",
    "        # for common used 6-digit\n",
    "        ('000000', None, None, None, \"WEAK\", [\"COMMONLY_USED\"]),\n",
    "        ('010101', None, None, None, \"WEAK\", [\"COMMONLY_USED\"]),\n",
    "        ('112233', None, None, None, \"WEAK\", [\"COMMONLY_USED\"]),\n",
    "        # DOB Match 4-digit\n",
    "        (\"0201\", \"02-01-1998\", None, None, \"WEAK\", [\"DEMOGRAPHIC_DOB_SELF\"]),\n",
    "        (\"1004\", \"04-10-2000\", None, None, \"WEAK\", [\"COMMONLY_USED\", \"DEMOGRAPHIC_DOB_SELF\"]),\n",
    "        (\"1212\", \"12-12-2012\", None, None, \"WEAK\", [\"COMMONLY_USED\", \"DEMOGRAPHIC_DOB_SELF\"]),\n",
    "        # DOB match 6-digit\n",
    "        (\"020198\", \"02-01-1998\", None, None, \"WEAK\", [\"DEMOGRAPHIC_DOB_SELF\"]),\n",
    "        (\"101290\", None, \"10-12-1990\", None, \"WEAK\", [\"DEMOGRAPHIC_DOB_SPOUSE\"]),\n",
    "        (\"150815\", None, None, \"15-08-2015\", \"WEAK\", [\"DEMOGRAPHIC_ANNIVERSARY\"]),\n",
    "        # Mixed common + demographic\n",
    "        (\"1111\", \"11-11-2011\", None, None, \"WEAK\", [\"COMMONLY_USED\", \"DEMOGRAPHIC_DOB_SELF\"]),\n",
    "        (\"888888\", None, None, \"08-08-1988\", \"WEAK\", [\"COMMONLY_USED\", \"DEMOGRAPHIC_ANNIVERSARY\"]),\n",
    "        # Invalid lengths\n",
    "        (\"12\", None, None, None, \"INVALID_LENGTH\", []),\n",
    "        (\"123\", None, None, None, \"INVALID_LENGTH\", []),\n",
    "        (\"12345\", None, None, None, \"INVALID_LENGTH\", []),\n",
    "        (\"1234567\", None, None, None, \"INVALID_LENGTH\", []),\n",
    "        # Strong MPINs (random, not demographic-related or common)\n",
    "        (\"8392\", \"01-02-1990\", \"03-04-1991\", \"05-06-1992\", \"STRONG\", []),\n",
    "        (\"839201\", \"01-02-1990\", \"03-04-1991\", \"05-06-1992\", \"STRONG\", []),\n",
    "        (\"7594\", None, None, None, \"STRONG\", []),\n",
    "        (\"930284\", None, None, None, \"STRONG\", [])\n",
    "    ]\n",
    "\n",
    "    for i, (pin, DOB, Spouse_DOB, Wedding_Anniversary, expected_strength, expected_reasons) in enumerate(tests, 1):\n",
    "        strength, reasons = check_strength_reason(pin, DOB, Spouse_DOB, Wedding_Anniversary)\n",
    "        strength_match = (strength == expected_strength)\n",
    "        reasons_match = (sorted(reasons) == sorted(expected_reasons))\n",
    "        passed = strength_match and reasons_match\n",
    "        print(f\"Test {i}: PIN={pin}, Strength={strength}, Reasons={reasons} -> {'Passed ✅' if passed else 'Failed ❌'}\")\n",
    "\n"
   ]
  },
  {
   "cell_type": "code",
   "execution_count": 82,
   "id": "e0868bdc-33dd-49b4-957f-d197d53c04ae",
   "metadata": {},
   "outputs": [
    {
     "name": "stdout",
     "output_type": "stream",
     "text": [
      "Test 1: PIN=0000, Strength=WEAK, Reasons=['COMMONLY_USED'] -> Passed ✅\n",
      "Test 2: PIN=2580, Strength=WEAK, Reasons=['COMMONLY_USED'] -> Passed ✅\n",
      "Test 3: PIN=4321, Strength=WEAK, Reasons=['COMMONLY_USED'] -> Passed ✅\n",
      "Test 4: PIN=000000, Strength=WEAK, Reasons=['COMMONLY_USED'] -> Passed ✅\n",
      "Test 5: PIN=010101, Strength=WEAK, Reasons=['COMMONLY_USED'] -> Passed ✅\n",
      "Test 6: PIN=112233, Strength=WEAK, Reasons=['COMMONLY_USED'] -> Passed ✅\n",
      "Test 7: PIN=0201, Strength=WEAK, Reasons=['DEMOGRAPHIC_DOB_SELF'] -> Passed ✅\n",
      "Test 8: PIN=1004, Strength=WEAK, Reasons=['COMMONLY_USED', 'DEMOGRAPHIC_DOB_SELF'] -> Passed ✅\n",
      "Test 9: PIN=1212, Strength=WEAK, Reasons=['COMMONLY_USED', 'DEMOGRAPHIC_DOB_SELF'] -> Passed ✅\n",
      "Test 10: PIN=020198, Strength=WEAK, Reasons=['DEMOGRAPHIC_DOB_SELF'] -> Passed ✅\n",
      "Test 11: PIN=101290, Strength=WEAK, Reasons=['DEMOGRAPHIC_DOB_SPOUSE'] -> Passed ✅\n",
      "Test 12: PIN=150815, Strength=WEAK, Reasons=['DEMOGRAPHIC_ANNIVERSARY'] -> Passed ✅\n",
      "Test 13: PIN=1111, Strength=WEAK, Reasons=['COMMONLY_USED', 'DEMOGRAPHIC_DOB_SELF'] -> Passed ✅\n",
      "Test 14: PIN=888888, Strength=STRONG, Reasons=[] -> Failed ❌\n",
      "Test 15: PIN=12, Strength=INVALID_LENGTH, Reasons=[] -> Passed ✅\n",
      "Test 16: PIN=123, Strength=INVALID_LENGTH, Reasons=[] -> Passed ✅\n",
      "Test 17: PIN=12345, Strength=INVALID_LENGTH, Reasons=[] -> Passed ✅\n",
      "Test 18: PIN=1234567, Strength=INVALID_LENGTH, Reasons=[] -> Passed ✅\n",
      "Test 19: PIN=8392, Strength=STRONG, Reasons=[] -> Passed ✅\n",
      "Test 20: PIN=839201, Strength=STRONG, Reasons=[] -> Passed ✅\n",
      "Test 21: PIN=7594, Strength=STRONG, Reasons=[] -> Passed ✅\n",
      "Test 22: PIN=930284, Strength=STRONG, Reasons=[] -> Passed ✅\n"
     ]
    }
   ],
   "source": [
    "if __name__ == \"__main__\":\n",
    "    run_tests_cases()\n"
   ]
  },
  {
   "cell_type": "markdown",
   "id": "21bed4d8-e70b-4486-b36a-05ae225e98bf",
   "metadata": {},
   "source": [
    "THANK YOU"
   ]
  },
  {
   "cell_type": "code",
   "execution_count": null,
   "id": "5922f3d6-67a4-41db-b1f5-f11b9f428280",
   "metadata": {},
   "outputs": [],
   "source": []
  }
 ],
 "metadata": {
  "kernelspec": {
   "display_name": "Python 3 (ipykernel)",
   "language": "python",
   "name": "python3"
  },
  "language_info": {
   "codemirror_mode": {
    "name": "ipython",
    "version": 3
   },
   "file_extension": ".py",
   "mimetype": "text/x-python",
   "name": "python",
   "nbconvert_exporter": "python",
   "pygments_lexer": "ipython3",
   "version": "3.11.7"
  }
 },
 "nbformat": 4,
 "nbformat_minor": 5
}
